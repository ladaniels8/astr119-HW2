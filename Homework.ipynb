{
 "cells": [
  {
   "cell_type": "markdown",
   "metadata": {},
   "source": [
    "# Homework due oct 18\n",
    "lets goooooooo!"
   ]
  },
  {
   "cell_type": "code",
   "execution_count": null,
   "metadata": {},
   "outputs": [],
   "source": [
    "%matplotlib inline #not to sure if this was neccessary but i included it just incase\n",
    "import numpy as np #importing the crap like usual\n",
    "import matplotlib.pyplot as plt #more importing"
   ]
  },
  {
   "cell_type": "markdown",
   "metadata": {},
   "source": [
    "### function a"
   ]
  },
  {
   "cell_type": "code",
   "execution_count": null,
   "metadata": {},
   "outputs": [],
   "source": [
    "x = np.arange(0,2*np.pi,0.1) #crating my array (i hope, figures crossed)\n",
    "\n",
    "z = 5.5 #defining my float (bc i was having issues)\n",
    "\n",
    "y = np.cos(2*x)* z +5.5 #making my function \n",
    "\n",
    "plt.plot(x,y) #ploting my points\n",
    "\n",
    "plt.xlabel('time spent in class')  #labels the x axis\n",
    "plt.ylabel('groovy vibes')  #labels the y axis\n",
    "\n",
    "plt.show() #i did this so that way the annoying little numbers/words would go away"
   ]
  },
  {
   "cell_type": "markdown",
   "metadata": {},
   "source": [
    "### funtion b"
   ]
  },
  {
   "cell_type": "code",
   "execution_count": null,
   "metadata": {},
   "outputs": [],
   "source": [
    "x = np.arange(0,2*np.pi,0.1) #making my array \n",
    "\n",
    "w = 0.02 #defining my float\n",
    "\n",
    "y = np.exp(x)*w #the function\n",
    "\n",
    "plt.plot(x,y) #ploting my\n",
    "\n",
    "plt.xlabel('measures of awesomeness') #new labels bc i want to spice things up \n",
    "plt.ylabel('time in class') #another label\n",
    "\n",
    "plt.show() #we remember why i did this the first time right? bc im crazy. "
   ]
  },
  {
   "cell_type": "markdown",
   "metadata": {},
   "source": [
    "### function c"
   ]
  },
  {
   "cell_type": "code",
   "execution_count": null,
   "metadata": {
    "scrolled": true
   },
   "outputs": [],
   "source": [
    "x = np.arange(0,2*np.pi,0.1) #last time making this array\n",
    "\n",
    "#lets create a ton of floats bc this fuction was a little bitch-ass and wanted to stress me out!!!! \n",
    "a = 0.24 #a is for apples\n",
    "b = 0.1 #b is for bananas\n",
    "c = 2 #c is for can i please go to bed already???? \n",
    "y = a * x** c + b * np.sin(10*x) #my cute little function (yes i know things r out of order, that is just the way this cookie crumbled)\n",
    "\n",
    "plt.plot(x,y) #ploting da poins\n",
    "\n",
    "plt.xlabel('amount of growth') #new labels, but boring labels\n",
    "plt.ylabel('time learning')\n",
    "\n",
    "plt.show() "
   ]
  },
  {
   "cell_type": "markdown",
   "metadata": {},
   "source": [
    "# there we have it foks, my masterpiece \n",
    "\n",
    "\n",
    "i hope u loved this bc i felt totally bad ass making this code at 2 am in the computer lab, i just wish ppl were around to appriciate it :'( \n",
    "\n",
    "ps. i really hope u liked my comments, i decided to add them at the end so that way you can follow my train of thought as i did this hw, im sorry if my sense of humor is wierd. what can i say, it has been a suuuuper long day, so basically im doing this while im delusionally tired. cool right? i promise i won't put u through this agian. scout's honor. "
   ]
  },
  {
   "cell_type": "code",
   "execution_count": null,
   "metadata": {},
   "outputs": [],
   "source": []
  }
 ],
 "metadata": {
  "kernelspec": {
   "display_name": "Python 3",
   "language": "python",
   "name": "python3"
  },
  "language_info": {
   "codemirror_mode": {
    "name": "ipython",
    "version": 3
   },
   "file_extension": ".py",
   "mimetype": "text/x-python",
   "name": "python",
   "nbconvert_exporter": "python",
   "pygments_lexer": "ipython3",
   "version": "3.6.5"
  }
 },
 "nbformat": 4,
 "nbformat_minor": 2
}
